{
 "cells": [
  {
   "cell_type": "markdown",
   "metadata": {},
   "source": [
    "# This is  a Jupyter Notebook"
   ]
  },
  {
   "cell_type": "markdown",
   "metadata": {},
   "source": [
    "A Jupyter Notebook is an open-source web application that allows you to create and share documents that contain live code, equations, visualizations and narrative text. "
   ]
  },
  {
   "cell_type": "markdown",
   "metadata": {},
   "source": [
    "Let's show how easy it is to share and execute Python code."
   ]
  },
  {
   "cell_type": "code",
   "execution_count": 1,
   "metadata": {},
   "outputs": [
    {
     "name": "stdout",
     "output_type": "stream",
     "text": [
      "Hello World!\n"
     ]
    }
   ],
   "source": [
    "print('Hello World!')"
   ]
  },
  {
   "cell_type": "code",
   "execution_count": 2,
   "metadata": {},
   "outputs": [],
   "source": [
    "my_variable = 'analytics'"
   ]
  },
  {
   "cell_type": "code",
   "execution_count": 3,
   "metadata": {},
   "outputs": [
    {
     "name": "stdout",
     "output_type": "stream",
     "text": [
      "analytics\n"
     ]
    }
   ],
   "source": [
    "print(my_variable)"
   ]
  },
  {
   "cell_type": "code",
   "execution_count": 4,
   "metadata": {},
   "outputs": [
    {
     "name": "stdout",
     "output_type": "stream",
     "text": [
      "a\n",
      "n\n",
      "a\n",
      "l\n",
      "y\n",
      "t\n",
      "i\n",
      "c\n",
      "s\n"
     ]
    }
   ],
   "source": [
    "for i in my_variable:\n",
    "    print(i)"
   ]
  },
  {
   "cell_type": "code",
   "execution_count": 5,
   "metadata": {},
   "outputs": [
    {
     "name": "stdout",
     "output_type": "stream",
     "text": [
      "analytics\n",
      "analytics\n",
      "analytics\n",
      "analytics\n",
      "analytics\n",
      "analytics\n",
      "analytics\n",
      "analytics\n",
      "analytics\n"
     ]
    }
   ],
   "source": [
    "for i in range(0, 9):\n",
    "    print(my_variable)"
   ]
  },
  {
   "cell_type": "code",
   "execution_count": 6,
   "metadata": {},
   "outputs": [
    {
     "name": "stdout",
     "output_type": "stream",
     "text": [
      "analytics\n",
      "analytic\n",
      "analyti\n",
      "analyt\n",
      "analy\n",
      "anal\n",
      "ana\n",
      "an\n",
      "a\n"
     ]
    }
   ],
   "source": [
    "while len(my_variable) > 0:\n",
    "    print(my_variable)\n",
    "    my_variable = my_variable[:-1]"
   ]
  },
  {
   "cell_type": "code",
   "execution_count": 2,
   "metadata": {},
   "outputs": [],
   "source": [
    "import pandas as pd"
   ]
  },
  {
   "cell_type": "code",
   "execution_count": 3,
   "metadata": {},
   "outputs": [],
   "source": [
    "url = 'https://raw.githubusercontent.com/Rob-Valdez/ACG-6496/master/Slainte_Subset.csv'"
   ]
  },
  {
   "cell_type": "code",
   "execution_count": 4,
   "metadata": {},
   "outputs": [],
   "source": [
    "data = pd.read_csv(url)"
   ]
  },
  {
   "cell_type": "code",
   "execution_count": 5,
   "metadata": {},
   "outputs": [
    {
     "name": "stdout",
     "output_type": "stream",
     "text": [
      "     Sales_Order_ID Sales_Order_Date  Sales_Employee_ID  Customer_ID  \\\n",
      "0             20001        11/1/2019               1006         2056   \n",
      "1             20003        11/1/2019               1006         2011   \n",
      "2             20005        11/1/2019               1006         2012   \n",
      "3             20005        11/1/2019               1006         2012   \n",
      "4             20009        11/2/2019               1006         2005   \n",
      "..              ...              ...                ...          ...   \n",
      "144           20539        4/19/2020               1006         2053   \n",
      "145           20543        4/20/2020               1006         2016   \n",
      "146           20545        4/21/2020               1007         2043   \n",
      "147           20559        4/25/2020               1007         2042   \n",
      "148           20564        4/28/2020               1007         2001   \n",
      "\n",
      "     Product_Code  Sales_Order_Quantity_Sold  Product_Sale_Price  \n",
      "0            2001                         10                  95  \n",
      "1            2006                          8                  90  \n",
      "2            2006                          9                  90  \n",
      "3            2001                          8                  95  \n",
      "4            2004                          3                 105  \n",
      "..            ...                        ...                 ...  \n",
      "144          2004                         10                 105  \n",
      "145          2003                          3                 100  \n",
      "146          2003                          1                 100  \n",
      "147          2004                         11                 105  \n",
      "148          2002                          6                 120  \n",
      "\n",
      "[149 rows x 7 columns]\n"
     ]
    }
   ],
   "source": [
    "print(data)"
   ]
  },
  {
   "cell_type": "code",
   "execution_count": 6,
   "metadata": {},
   "outputs": [
    {
     "data": {
      "text/html": [
       "<div>\n",
       "<style scoped>\n",
       "    .dataframe tbody tr th:only-of-type {\n",
       "        vertical-align: middle;\n",
       "    }\n",
       "\n",
       "    .dataframe tbody tr th {\n",
       "        vertical-align: top;\n",
       "    }\n",
       "\n",
       "    .dataframe thead th {\n",
       "        text-align: right;\n",
       "    }\n",
       "</style>\n",
       "<table border=\"1\" class=\"dataframe\">\n",
       "  <thead>\n",
       "    <tr style=\"text-align: right;\">\n",
       "      <th></th>\n",
       "      <th>Sales_Order_ID</th>\n",
       "      <th>Sales_Order_Date</th>\n",
       "      <th>Sales_Employee_ID</th>\n",
       "      <th>Customer_ID</th>\n",
       "      <th>Product_Code</th>\n",
       "      <th>Sales_Order_Quantity_Sold</th>\n",
       "      <th>Product_Sale_Price</th>\n",
       "    </tr>\n",
       "  </thead>\n",
       "  <tbody>\n",
       "    <tr>\n",
       "      <th>0</th>\n",
       "      <td>20001</td>\n",
       "      <td>11/1/2019</td>\n",
       "      <td>1006</td>\n",
       "      <td>2056</td>\n",
       "      <td>2001</td>\n",
       "      <td>10</td>\n",
       "      <td>95</td>\n",
       "    </tr>\n",
       "    <tr>\n",
       "      <th>1</th>\n",
       "      <td>20003</td>\n",
       "      <td>11/1/2019</td>\n",
       "      <td>1006</td>\n",
       "      <td>2011</td>\n",
       "      <td>2006</td>\n",
       "      <td>8</td>\n",
       "      <td>90</td>\n",
       "    </tr>\n",
       "    <tr>\n",
       "      <th>2</th>\n",
       "      <td>20005</td>\n",
       "      <td>11/1/2019</td>\n",
       "      <td>1006</td>\n",
       "      <td>2012</td>\n",
       "      <td>2006</td>\n",
       "      <td>9</td>\n",
       "      <td>90</td>\n",
       "    </tr>\n",
       "    <tr>\n",
       "      <th>3</th>\n",
       "      <td>20005</td>\n",
       "      <td>11/1/2019</td>\n",
       "      <td>1006</td>\n",
       "      <td>2012</td>\n",
       "      <td>2001</td>\n",
       "      <td>8</td>\n",
       "      <td>95</td>\n",
       "    </tr>\n",
       "    <tr>\n",
       "      <th>4</th>\n",
       "      <td>20009</td>\n",
       "      <td>11/2/2019</td>\n",
       "      <td>1006</td>\n",
       "      <td>2005</td>\n",
       "      <td>2004</td>\n",
       "      <td>3</td>\n",
       "      <td>105</td>\n",
       "    </tr>\n",
       "  </tbody>\n",
       "</table>\n",
       "</div>"
      ],
      "text/plain": [
       "   Sales_Order_ID Sales_Order_Date  Sales_Employee_ID  Customer_ID  \\\n",
       "0           20001        11/1/2019               1006         2056   \n",
       "1           20003        11/1/2019               1006         2011   \n",
       "2           20005        11/1/2019               1006         2012   \n",
       "3           20005        11/1/2019               1006         2012   \n",
       "4           20009        11/2/2019               1006         2005   \n",
       "\n",
       "   Product_Code  Sales_Order_Quantity_Sold  Product_Sale_Price  \n",
       "0          2001                         10                  95  \n",
       "1          2006                          8                  90  \n",
       "2          2006                          9                  90  \n",
       "3          2001                          8                  95  \n",
       "4          2004                          3                 105  "
      ]
     },
     "execution_count": 6,
     "metadata": {},
     "output_type": "execute_result"
    }
   ],
   "source": [
    "data.head()"
   ]
  },
  {
   "cell_type": "code",
   "execution_count": 7,
   "metadata": {},
   "outputs": [
    {
     "data": {
      "text/plain": [
       "(149, 7)"
      ]
     },
     "execution_count": 7,
     "metadata": {},
     "output_type": "execute_result"
    }
   ],
   "source": [
    "data.shape"
   ]
  },
  {
   "cell_type": "code",
   "execution_count": 8,
   "metadata": {},
   "outputs": [
    {
     "data": {
      "text/html": [
       "<div>\n",
       "<style scoped>\n",
       "    .dataframe tbody tr th:only-of-type {\n",
       "        vertical-align: middle;\n",
       "    }\n",
       "\n",
       "    .dataframe tbody tr th {\n",
       "        vertical-align: top;\n",
       "    }\n",
       "\n",
       "    .dataframe thead th {\n",
       "        text-align: right;\n",
       "    }\n",
       "</style>\n",
       "<table border=\"1\" class=\"dataframe\">\n",
       "  <thead>\n",
       "    <tr style=\"text-align: right;\">\n",
       "      <th></th>\n",
       "      <th>Sales_Order_ID</th>\n",
       "      <th>Sales_Employee_ID</th>\n",
       "      <th>Customer_ID</th>\n",
       "      <th>Product_Code</th>\n",
       "      <th>Sales_Order_Quantity_Sold</th>\n",
       "      <th>Product_Sale_Price</th>\n",
       "    </tr>\n",
       "  </thead>\n",
       "  <tbody>\n",
       "    <tr>\n",
       "      <th>count</th>\n",
       "      <td>149.000000</td>\n",
       "      <td>149.000000</td>\n",
       "      <td>149.000000</td>\n",
       "      <td>149.000000</td>\n",
       "      <td>149.000000</td>\n",
       "      <td>149.000000</td>\n",
       "    </tr>\n",
       "    <tr>\n",
       "      <th>mean</th>\n",
       "      <td>20269.590604</td>\n",
       "      <td>1006.483221</td>\n",
       "      <td>2032.550336</td>\n",
       "      <td>2003.637584</td>\n",
       "      <td>6.570470</td>\n",
       "      <td>98.422819</td>\n",
       "    </tr>\n",
       "    <tr>\n",
       "      <th>std</th>\n",
       "      <td>165.018304</td>\n",
       "      <td>0.501404</td>\n",
       "      <td>17.806557</td>\n",
       "      <td>1.448274</td>\n",
       "      <td>3.551275</td>\n",
       "      <td>9.210145</td>\n",
       "    </tr>\n",
       "    <tr>\n",
       "      <th>min</th>\n",
       "      <td>20001.000000</td>\n",
       "      <td>1006.000000</td>\n",
       "      <td>2001.000000</td>\n",
       "      <td>2001.000000</td>\n",
       "      <td>1.000000</td>\n",
       "      <td>85.000000</td>\n",
       "    </tr>\n",
       "    <tr>\n",
       "      <th>25%</th>\n",
       "      <td>20126.000000</td>\n",
       "      <td>1006.000000</td>\n",
       "      <td>2017.000000</td>\n",
       "      <td>2003.000000</td>\n",
       "      <td>3.000000</td>\n",
       "      <td>90.000000</td>\n",
       "    </tr>\n",
       "    <tr>\n",
       "      <th>50%</th>\n",
       "      <td>20265.000000</td>\n",
       "      <td>1006.000000</td>\n",
       "      <td>2035.000000</td>\n",
       "      <td>2004.000000</td>\n",
       "      <td>7.000000</td>\n",
       "      <td>100.000000</td>\n",
       "    </tr>\n",
       "    <tr>\n",
       "      <th>75%</th>\n",
       "      <td>20416.000000</td>\n",
       "      <td>1007.000000</td>\n",
       "      <td>2047.000000</td>\n",
       "      <td>2005.000000</td>\n",
       "      <td>10.000000</td>\n",
       "      <td>105.000000</td>\n",
       "    </tr>\n",
       "    <tr>\n",
       "      <th>max</th>\n",
       "      <td>20564.000000</td>\n",
       "      <td>1007.000000</td>\n",
       "      <td>2062.000000</td>\n",
       "      <td>2006.000000</td>\n",
       "      <td>12.000000</td>\n",
       "      <td>120.000000</td>\n",
       "    </tr>\n",
       "  </tbody>\n",
       "</table>\n",
       "</div>"
      ],
      "text/plain": [
       "       Sales_Order_ID  Sales_Employee_ID  Customer_ID  Product_Code  \\\n",
       "count      149.000000         149.000000   149.000000    149.000000   \n",
       "mean     20269.590604        1006.483221  2032.550336   2003.637584   \n",
       "std        165.018304           0.501404    17.806557      1.448274   \n",
       "min      20001.000000        1006.000000  2001.000000   2001.000000   \n",
       "25%      20126.000000        1006.000000  2017.000000   2003.000000   \n",
       "50%      20265.000000        1006.000000  2035.000000   2004.000000   \n",
       "75%      20416.000000        1007.000000  2047.000000   2005.000000   \n",
       "max      20564.000000        1007.000000  2062.000000   2006.000000   \n",
       "\n",
       "       Sales_Order_Quantity_Sold  Product_Sale_Price  \n",
       "count                 149.000000          149.000000  \n",
       "mean                    6.570470           98.422819  \n",
       "std                     3.551275            9.210145  \n",
       "min                     1.000000           85.000000  \n",
       "25%                     3.000000           90.000000  \n",
       "50%                     7.000000          100.000000  \n",
       "75%                    10.000000          105.000000  \n",
       "max                    12.000000          120.000000  "
      ]
     },
     "execution_count": 8,
     "metadata": {},
     "output_type": "execute_result"
    }
   ],
   "source": [
    "data.describe()"
   ]
  },
  {
   "cell_type": "code",
   "execution_count": null,
   "metadata": {},
   "outputs": [],
   "source": []
  }
 ],
 "metadata": {
  "kernelspec": {
   "display_name": "Python 3",
   "language": "python",
   "name": "python3"
  },
  "language_info": {
   "codemirror_mode": {
    "name": "ipython",
    "version": 3
   },
   "file_extension": ".py",
   "mimetype": "text/x-python",
   "name": "python",
   "nbconvert_exporter": "python",
   "pygments_lexer": "ipython3",
   "version": "3.7.7"
  }
 },
 "nbformat": 4,
 "nbformat_minor": 4
}
